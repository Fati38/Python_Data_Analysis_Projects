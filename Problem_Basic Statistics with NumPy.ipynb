{
 "cells": [
  {
   "attachments": {},
   "cell_type": "markdown",
   "id": "ef4e55ce",
   "metadata": {},
   "source": [
    "# Problem: Basic Statistics with NumPy\n"
   ]
  },
  {
   "attachments": {},
   "cell_type": "markdown",
   "id": "6e5fc312",
   "metadata": {},
   "source": [
    "Objective:\n",
    "Given a list of numbers, calculate and print the following statistics:\n",
    "\n",
    "- Mean (average)\n",
    "- Median (middle value)\n",
    "- Standard Deviation (how spread out the numbers are)\n"
   ]
  },
  {
   "cell_type": "code",
   "execution_count": 45,
   "id": "d788636e",
   "metadata": {},
   "outputs": [
    {
     "name": "stdout",
     "output_type": "stream",
     "text": [
      "Dictionary:\n",
      "{'Mean': 49.4, 'Median': 46.5, 'Std': 28.42639618382886}\n",
      "\n",
      "2D Array:\n",
      "[['Mean' 'Median' 'Std']\n",
      " ['48.19' '48.5' '29.020232597275992']]\n",
      "\n",
      "DataFrame:\n",
      "    Mean  Median        Std\n",
      "0  48.19    48.5  29.020233\n"
     ]
    }
   ],
   "source": [
    "import numpy as np\n",
    "import pandas as pd\n",
    "import random\n",
    "\n",
    "# Generate a list of 100 random integers between 0 and 100\n",
    "\n",
    "list_nb = [ np.random.randint(0,100) for _ in range(100)]\n",
    "\n",
    "# Calculate mean, median, and standard deviation using NumPy functions\n",
    "\n",
    "mean_list_nb = np.mean(list_nb)\n",
    "median_list_nb = np.median(list_nb)\n",
    "std_list_nb = np.std(list_nb)\n",
    "\n",
    "# Store the values in a dictionary\n",
    "\n",
    "dict_stats = {'Mean': mean_list_nb, 'Median': median_list_nb, 'Std' : std_list_nb }\n",
    "\n",
    "# Store the values in a 2D array\n",
    "\n",
    "array_2D_stats = np.array([[key for key in dict_stats.keys()], [item for item in dict_stats.values()]])\n",
    "\n",
    "# Store the values in a DataFrame\n",
    "\n",
    "df_stats = pd.DataFrame([dict_stats])\n",
    "\n",
    "print(\"Dictionary:\")\n",
    "print(stats_dict)\n",
    "\n",
    "print(\"\\n2D Array:\")\n",
    "print(array_2D_stats)\n",
    "\n",
    "print(\"\\nDataFrame:\")\n",
    "print(df_stats)"
   ]
  },
  {
   "cell_type": "code",
   "execution_count": 37,
   "id": "e9fa6d0e",
   "metadata": {},
   "outputs": [
    {
     "data": {
      "text/plain": [
       "50.43"
      ]
     },
     "execution_count": 37,
     "metadata": {},
     "output_type": "execute_result"
    }
   ],
   "source": [
    "\n",
    "\n"
   ]
  },
  {
   "cell_type": "code",
   "execution_count": null,
   "id": "c5acc7f5",
   "metadata": {},
   "outputs": [],
   "source": []
  }
 ],
 "metadata": {
  "kernelspec": {
   "display_name": "Python 3 (ipykernel)",
   "language": "python",
   "name": "python3"
  },
  "language_info": {
   "codemirror_mode": {
    "name": "ipython",
    "version": 3
   },
   "file_extension": ".py",
   "mimetype": "text/x-python",
   "name": "python",
   "nbconvert_exporter": "python",
   "pygments_lexer": "ipython3",
   "version": "3.11.5"
  }
 },
 "nbformat": 4,
 "nbformat_minor": 5
}
