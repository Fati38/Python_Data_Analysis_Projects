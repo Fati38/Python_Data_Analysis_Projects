{
 "cells": [
  {
   "cell_type": "markdown",
   "id": "f6e648f3",
   "metadata": {},
   "source": [
    "# Problem: Movie Ratings Analysis"
   ]
  },
  {
   "cell_type": "markdown",
   "id": "03a928b1",
   "metadata": {},
   "source": [
    "You have a list of dictionaries representing movies. \n",
    "Each dictionary contains the title of the movie, its genre, \n",
    "and a list of ratings it has received. Your task is to write a program that processes this data \n",
    "and provides some useful information.\n",
    "\n",
    "Requirements:\n",
    "- Calculate the average rating for each movie.\n",
    "- Identify the highest-rated movie in each genre.\n",
    "- Provide a list of movies that have an average rating above a given threshold."
   ]
  },
  {
   "cell_type": "code",
   "execution_count": 2,
   "id": "c9a5d5f5",
   "metadata": {},
   "outputs": [],
   "source": [
    "# Data input\n",
    "movies = [\n",
    "    {\"title\": \"Movie A\", \"genre\": \"Action\", \"ratings\": [4, 5, 3, 4]},\n",
    "    {\"title\": \"Movie B\", \"genre\": \"Comedy\", \"ratings\": [3, 4, 2]},\n",
    "    {\"title\": \"Movie C\", \"genre\": \"Action\", \"ratings\": [5, 5, 4]},\n",
    "    {\"title\": \"Movie D\", \"genre\": \"Drama\", \"ratings\": [4, 4, 4]},\n",
    "    {\"title\": \"Movie E\", \"genre\": \"Comedy\", \"ratings\": [5, 5, 5, 4]},\n",
    "]\n",
    "\n"
   ]
  },
  {
   "cell_type": "markdown",
   "id": "2358631c",
   "metadata": {},
   "source": [
    "Tasks:\n",
    "\n",
    "- Calculate Average Rating:\n",
    "\n",
    "Write a function calculate_average_ratings that takes the list of movies and adds a new key average_rating to each movie dictionary.\n",
    "\n",
    "- Highest-Rated Movie by Genre:\n",
    "\n",
    "Write a function highest_rated_by_genre that takes the list of movies and returns a dictionary where each key is a genre and the value is the title of the highest-rated movie in that genre.\n",
    "\n",
    "- Movies Above Rating Threshold:\n",
    "\n",
    "Write a function movies_above_threshold that takes the list of movies and a rating threshold, and returns a list of movie titles with an average rating above the given threshold.\n",
    "\n",
    "- Example Output:\n",
    "\n",
    " For the input data provided, the expected output is:\n",
    " - [\n",
    "    {\"title\": \"Movie A\", \"genre\": \"Action\", \"ratings\": [4, 5, 3, 4], \"average_rating\": 4.0},\n",
    "    \n",
    "    {\"title\": \"Movie B\", \"genre\": \"Comedy\", \"ratings\": [3, 4, 2], \"average_rating\": 3.0},\n",
    "    \n",
    "    {\"title\": \"Movie C\", \"genre\": \"Action\", \"ratings\": [5, 5, 4], \"average_rating\": 4.67},\n",
    "    \n",
    "    {\"title\": \"Movie D\", \"genre\": \"Drama\", \"ratings\": [4, 4, 4], \"average_rating\": 4.0},\n",
    "    \n",
    "    {\"title\": \"Movie E\", \"genre\": \"Comedy\", \"ratings\": [5, 5, 5, 4], \"average_rating\": 4.75},\n",
    "]"
   ]
  },
  {
   "cell_type": "code",
   "execution_count": 27,
   "id": "a491d1fe",
   "metadata": {},
   "outputs": [
    {
     "name": "stderr",
     "output_type": "stream",
     "text": [
      "C:\\Users\\User\\anaconda3\\Lib\\site-packages\\pandas\\core\\arrays\\masked.py:60: UserWarning: Pandas requires version '1.3.6' or newer of 'bottleneck' (version '1.3.5' currently installed).\n",
      "  from pandas.core import (\n"
     ]
    }
   ],
   "source": [
    "import numpy as np\n",
    "import pandas as pd\n"
   ]
  },
  {
   "cell_type": "code",
   "execution_count": 75,
   "id": "99e0f74d",
   "metadata": {},
   "outputs": [],
   "source": [
    "import numpy as np\n",
    "import pandas as pd\n",
    "\n",
    "#A function takes the list of movies and adds a new key average_rating to each movie dictionary.\n",
    "#Calculate the average ratings\n",
    "def calculate_average_ratings(movies):\n",
    " for i in range(len(movies)): \n",
    "    movies[i][\"average_rating\"] = np.mean(movies[i][\"ratings\"])\n",
    "\n",
    "# Chat gbt version of the average ratings\n",
    "def calculate_average_ratings(movies):\n",
    "    for movie in movies:\n",
    "        movie[\"average_rating\"] = np.mean(movie[\"ratings\"])\n",
    " \n",
    "\n",
    "#Identify the highest-rated movie\n",
    "def highest_rated_movie(movies):\n",
    "    highest_movie = max(movies, key = lambda movies:movies[\"average_rating\"])\n",
    "    return highest_movie['title']     \n",
    "\n",
    "\n",
    "#Identify the highest-rated movie by genre\n",
    "#A function takes the list of movies and returns a dictionary where each key is a genre\n",
    "#and the value is the title of the highest-rated movie in that genre\n",
    "\n",
    "def highest_rated_movie_by_genre(movies):\n",
    "    df_movies = pd.DataFrame(movies)\n",
    "    movies_grouped = df_movies.groupby(\"genre\")\n",
    "    highest_rated_movie = movies_grouped['average_rating'].max()\n",
    "    return highest_rated_movie\n",
    "\n",
    "#chat gbt version of highest-rated movie by genre\n",
    "def highest_rated_movie_by_genre(movies):\n",
    "    df_movies = pd.DataFrame(movies)\n",
    "    highest_rated_movies = df_movies.loc[df_movies.groupby('genre')['average_rating'].idxmax(), ['genre', 'title']]\n",
    "    return highest_rated_movies.set_index('genre').to_dict()['title']\n",
    "\n",
    "\n",
    "#Movies Above Rating Threshold\n",
    "#A function takes the list of movies and a rating threshold, and returns\n",
    "#a list of movie titles with an average rating aboSve the given threshold\n",
    "\n",
    "def movies_above_threshold(movies,threshold):\n",
    " df_movies = pd.DataFrame(movies)\n",
    " movies_list = df_movies.loc[df_movies['average_rating'] > threshold, 'title'].tolist()\n",
    " return movies_list\n",
    "\n",
    "\n",
    "\n",
    "\n"
   ]
  },
  {
   "cell_type": "code",
   "execution_count": null,
   "id": "7fa71423",
   "metadata": {},
   "outputs": [],
   "source": [
    "\n"
   ]
  },
  {
   "cell_type": "code",
   "execution_count": null,
   "id": "2504229c",
   "metadata": {
    "scrolled": true
   },
   "outputs": [],
   "source": []
  },
  {
   "cell_type": "code",
   "execution_count": null,
   "id": "97619929",
   "metadata": {},
   "outputs": [],
   "source": []
  },
  {
   "cell_type": "code",
   "execution_count": null,
   "id": "3c32199f",
   "metadata": {},
   "outputs": [],
   "source": []
  },
  {
   "cell_type": "code",
   "execution_count": null,
   "id": "3c4a3544",
   "metadata": {},
   "outputs": [],
   "source": []
  },
  {
   "cell_type": "code",
   "execution_count": null,
   "id": "77056b7d",
   "metadata": {},
   "outputs": [],
   "source": []
  },
  {
   "cell_type": "code",
   "execution_count": 42,
   "id": "a95989d9",
   "metadata": {},
   "outputs": [],
   "source": []
  },
  {
   "cell_type": "code",
   "execution_count": null,
   "id": "04ea8812",
   "metadata": {
    "scrolled": true
   },
   "outputs": [],
   "source": []
  },
  {
   "cell_type": "code",
   "execution_count": null,
   "id": "b18bba0c",
   "metadata": {},
   "outputs": [],
   "source": [
    "\n"
   ]
  },
  {
   "cell_type": "code",
   "execution_count": null,
   "id": "0c556e7e",
   "metadata": {},
   "outputs": [],
   "source": []
  },
  {
   "cell_type": "code",
   "execution_count": null,
   "id": "7a591b51",
   "metadata": {},
   "outputs": [],
   "source": []
  }
 ],
 "metadata": {
  "kernelspec": {
   "display_name": "Python 3 (ipykernel)",
   "language": "python",
   "name": "python3"
  },
  "language_info": {
   "codemirror_mode": {
    "name": "ipython",
    "version": 3
   },
   "file_extension": ".py",
   "mimetype": "text/x-python",
   "name": "python",
   "nbconvert_exporter": "python",
   "pygments_lexer": "ipython3",
   "version": "3.11.5"
  }
 },
 "nbformat": 4,
 "nbformat_minor": 5
}
