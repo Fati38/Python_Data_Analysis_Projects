{
 "cells": [
  {
   "cell_type": "markdown",
   "id": "d01c369c",
   "metadata": {},
   "source": [
    "# Problem: Analyzing Student Grades"
   ]
  },
  {
   "cell_type": "markdown",
   "id": "f08db3dc",
   "metadata": {},
   "source": [
    "You have a list of dictionaries where each dictionary represents a student and contains their name and a list of grades they received. You need to write a function that calculates the average grade for each student, determines the class average, and finds the student with the highest average grade.\n",
    "\n",
    "Task\n",
    "- Calculate the average grade for each student: Write a function that takes the list of student dictionaries and adds a new key-value pair to each dictionary, where the key is 'average' and the value is the average of their grades.\n",
    "- Determine the class average: Calculate the average grade of all students.\n",
    "- Find the student with the highest average grade: Identify the student with the highest average grade and return their name and average."
   ]
  },
  {
   "cell_type": "code",
   "execution_count": 79,
   "id": "edddc9ef",
   "metadata": {},
   "outputs": [],
   "source": [
    "import numpy as np\n",
    "\n",
    "students = [\n",
    "    {\"name\": \"Alice\", \"grades\": [85, 90, 78]},\n",
    "    {\"name\": \"Bob\", \"grades\": [80, 85, 88]},\n",
    "    {\"name\": \"Charlie\", \"grades\": [90, 92, 85]},\n",
    "    {\"name\": \"David\", \"grades\": [70, 75, 72]}\n",
    "]"
   ]
  },
  {
   "cell_type": "code",
   "execution_count": 82,
   "id": "5def0047",
   "metadata": {},
   "outputs": [
    {
     "data": {
      "text/plain": [
       "[{'name': 'Alice', 'grades': [85, 90, 78]},\n",
       " {'name': 'Bob', 'grades': [80, 85, 88]},\n",
       " {'name': 'Charlie', 'grades': [90, 92, 85]},\n",
       " {'name': 'David', 'grades': [70, 75, 72]}]"
      ]
     },
     "execution_count": 82,
     "metadata": {},
     "output_type": "execute_result"
    }
   ],
   "source": [
    "#np.mean(students[0]['grades'])\n",
    "#students[0]['average'] = 60\n",
    "#len(students)\n",
    "#students[3][\"average\"] = np.mean(students[3]['grades'])\n",
    "students"
   ]
  },
  {
   "cell_type": "code",
   "execution_count": 83,
   "id": "d71e2c3b",
   "metadata": {},
   "outputs": [],
   "source": [
    "def calculate_student_averages(students):\n",
    "        \n",
    " for i in range(len(students)):     \n",
    "  students[i][\"average\"] = np.mean(students[i]['grades'])\n",
    " return students\n",
    "\n",
    "\n",
    "def calculate_class_average(students):\n",
    " class_average_list = [students[i][\"average\"] for i in range(len(students))]\n",
    " class_average = np.mean(class_average_list)\n",
    " return class_average\n",
    "\n",
    "def find_top_student(students):\n",
    "    \n",
    " top_student = max(students, key=lambda student: student[\"average\"])\n",
    " return top_student"
   ]
  },
  {
   "cell_type": "code",
   "execution_count": 85,
   "id": "4f09cb8b",
   "metadata": {},
   "outputs": [
    {
     "data": {
      "text/plain": [
       "<function __main__.<lambda>(student)>"
      ]
     },
     "execution_count": 85,
     "metadata": {},
     "output_type": "execute_result"
    }
   ],
   "source": [
    "lambda student: student[\"average\"]"
   ]
  },
  {
   "cell_type": "code",
   "execution_count": 74,
   "id": "0c16de38",
   "metadata": {},
   "outputs": [
    {
     "data": {
      "text/plain": [
       "82.49999999999999"
      ]
     },
     "execution_count": 74,
     "metadata": {},
     "output_type": "execute_result"
    }
   ],
   "source": []
  },
  {
   "cell_type": "raw",
   "id": "ad2c636e",
   "metadata": {},
   "source": [
    "\n"
   ]
  },
  {
   "cell_type": "code",
   "execution_count": 76,
   "id": "278c76f0",
   "metadata": {},
   "outputs": [
    {
     "data": {
      "text/plain": [
       "89.0"
      ]
     },
     "execution_count": 76,
     "metadata": {},
     "output_type": "execute_result"
    }
   ],
   "source": []
  }
 ],
 "metadata": {
  "kernelspec": {
   "display_name": "Python 3 (ipykernel)",
   "language": "python",
   "name": "python3"
  },
  "language_info": {
   "codemirror_mode": {
    "name": "ipython",
    "version": 3
   },
   "file_extension": ".py",
   "mimetype": "text/x-python",
   "name": "python",
   "nbconvert_exporter": "python",
   "pygments_lexer": "ipython3",
   "version": "3.11.5"
  }
 },
 "nbformat": 4,
 "nbformat_minor": 5
}
